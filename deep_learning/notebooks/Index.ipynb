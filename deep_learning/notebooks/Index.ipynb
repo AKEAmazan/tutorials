{
 "cells": [
  {
   "cell_type": "markdown",
   "metadata": {},
   "source": [
    "# Deep-learning tutorials\n",
    "\n",
    "This is the main index for the materials of tutorials for deep-learning.\n",
    "Please refer to the [github repository](http://github.com/makinacorpus/tutorials) for these tutorials for any updates."
   ]
  },
  {
   "cell_type": "markdown",
   "metadata": {},
   "source": [
    "## Tutorial Notebooks\n",
    "\n",
    "The following links are to notebooks about several themes, several tools.\n",
    "\n",
    "### Mask R-CNN\n",
    "\n",
    "Mask R-CNN is a model for object detection in a given image. Here it is used on aerial and satellite images for cartography.\n",
    "\n",
    "  + [Utilisation_de_Mask-RCNN.ipynb](Utilisation_de_Mask-RCNN.ipynb)\n"
   ]
  }
 ],
 "metadata": {
  "kernelspec": {
   "display_name": "Python 3",
   "language": "python",
   "name": "python3"
  },
  "language_info": {
   "codemirror_mode": {
    "name": "ipython",
    "version": 3
   },
   "file_extension": ".py",
   "mimetype": "text/x-python",
   "name": "python",
   "nbconvert_exporter": "python",
   "pygments_lexer": "ipython3",
   "version": "3.7.3"
  }
 },
 "nbformat": 4,
 "nbformat_minor": 1
}
